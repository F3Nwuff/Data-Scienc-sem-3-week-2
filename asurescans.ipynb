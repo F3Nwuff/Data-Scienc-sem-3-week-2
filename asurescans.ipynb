{
 "cells": [
  {
   "cell_type": "code",
   "execution_count": 1,
   "id": "e59a1392-8df3-4943-bb1d-2049c0fd0ac8",
   "metadata": {},
   "outputs": [],
   "source": [
    "from bs4 import BeautifulSoup\n",
    "import requests\n",
    "import re\n",
    "import pandas as pd"
   ]
  },
  {
   "cell_type": "code",
   "execution_count": 2,
   "id": "27d84724-63cc-46ab-8b72-d6596c67db9f",
   "metadata": {},
   "outputs": [],
   "source": [
    "headers = {'Accept-Language': 'en-US,en;q=0.8'}\n",
    "url = 'https://asuracomics.com/'\n",
    "response = requests.get(url,headers=headers)\n",
    "soup = BeautifulSoup(response.text, \"html.parser\")"
   ]
  },
  {
   "cell_type": "code",
   "execution_count": 35,
   "id": "81202f82-847c-4df3-a73e-ba4cc7c41324",
   "metadata": {},
   "outputs": [
    {
     "name": "stdout",
     "output_type": "stream",
     "text": [
      "<a href=\"https://asuracomics.com/manga/9625261433-martial-god-regressed-to-level-2/\" title=\"Martial God Regressed to Level 2\">\n",
      "<div class=\"limit\">\n",
      "<div class=\"ply\"></div>\n",
      "<span class=\"type Manhwa\">Manhwa</span> <img class=\"ts-post-image wp-post-image attachment-medium size-medium\" loading=\"lazy\" src=\"https://img.asuracomics.com/unsafe/fit-in/330x450/https://asuracomics.com/wp-content/uploads/2023/07/replicate-prediction-racly3rbhmzlnnex2krwvuaada.png\"/> </div>\n",
      "<div class=\"bigor\">\n",
      "<div class=\"tt\">\n",
      "Martial God Regressed to Level 2 </div>\n",
      "<div class=\"adds\">\n",
      "<div class=\"epxs\">Chapter 27</div>\n",
      "<div class=\"rt\">\n",
      "<div class=\"rating\">\n",
      "<div class=\"rating-prc\">\n",
      "<div class=\"rtp\">\n",
      "<div class=\"rtb\"><span style=\"width:98%\"></span></div>\n",
      "</div>\n",
      "</div>\n",
      "<div class=\"numscore\">9.8</div>\n",
      "</div>\n",
      "</div>\n",
      "</div>\n",
      "</div>\n",
      "</a>\n",
      "how many links of popular series today? 5\n"
     ]
    }
   ],
   "source": [
    "popular_today_link = soup.select('div.bs div.bsx a')\n",
    "print(popular_today_link[0])\n",
    "print(\"how many links of popular series today?\",len(soup.select('div.bs div.bsx a')))"
   ]
  },
  {
   "cell_type": "code",
   "execution_count": 15,
   "id": "6cb8635a-f0c8-4bd9-be1b-41ce2cca9b05",
   "metadata": {},
   "outputs": [
    {
     "name": "stdout",
     "output_type": "stream",
     "text": [
      "<img class=\"ts-post-image wp-post-image attachment-medium size-medium\" loading=\"lazy\" src=\"https://img.asuracomics.com/unsafe/fit-in/330x450/https://asuracomics.com/wp-content/uploads/2023/07/replicate-prediction-racly3rbhmzlnnex2krwvuaada.png\"/>\n",
      "how many images of popular series today? 5\n"
     ]
    }
   ],
   "source": [
    "popular_today_img = soup.select('div.limit img')\n",
    "print(popular_today_img[0])\n",
    "print(\"how many images of popular series today?\",len(soup.select('div.limit img')))"
   ]
  },
  {
   "cell_type": "code",
   "execution_count": 16,
   "id": "e898d150-c9de-4132-b9c8-a99f8e583481",
   "metadata": {},
   "outputs": [
    {
     "name": "stdout",
     "output_type": "stream",
     "text": [
      "<span class=\"type Manhwa\">Manhwa</span>\n",
      "how many types of popular series today? 5\n"
     ]
    }
   ],
   "source": [
    "popular_today_type = soup.select('div.limit span')\n",
    "print(popular_today_type[0])\n",
    "print(\"how many types of popular series today?\",len(soup.select('div.limit span')))"
   ]
  },
  {
   "cell_type": "code",
   "execution_count": 17,
   "id": "763cc262-c3e4-4de3-8dc2-6310576c69e0",
   "metadata": {},
   "outputs": [
    {
     "name": "stdout",
     "output_type": "stream",
     "text": [
      "<div class=\"tt\">\n",
      "Martial God Regressed to Level 2 </div>\n",
      "how many popular titles are there today? 5\n"
     ]
    }
   ],
   "source": [
    "popular_today_name = soup.select('div.bigor div.tt')\n",
    "print(popular_today_name[0])\n",
    "print(\"how many popular titles are there today?\",len(soup.select('div.bigor div.tt')))"
   ]
  },
  {
   "cell_type": "code",
   "execution_count": 18,
   "id": "b9ee6153-f0fd-4be8-927f-cea5076dd7b1",
   "metadata": {},
   "outputs": [
    {
     "name": "stdout",
     "output_type": "stream",
     "text": [
      "<div class=\"epxs\">Chapter 27</div>\n",
      "how many chapters does it have today? 5\n"
     ]
    }
   ],
   "source": [
    "popular_today_chapter = soup.select('div.adds div.epxs')\n",
    "print(popular_today_chapter[0])\n",
    "print(\"how many chapters does it have today?\",len(soup.select('div.adds div.epxs')))"
   ]
  },
  {
   "cell_type": "code",
   "execution_count": 20,
   "id": "be7c1470-8c3b-4fe9-bb36-5ef47a4297b4",
   "metadata": {},
   "outputs": [
    {
     "name": "stdout",
     "output_type": "stream",
     "text": [
      "<div class=\"numscore\">9.8</div>\n",
      "how much is their rating today? 5\n"
     ]
    }
   ],
   "source": [
    "popular_today_rate = soup.select('div.bigor div.adds div.rating div.numscore')\n",
    "print(popular_today_rate[0])\n",
    "print(\"how much is their rating today?\",len(soup.select('div.bigor div.adds div.rating div.numscore')))"
   ]
  },
  {
   "cell_type": "code",
   "execution_count": 36,
   "id": "56b99930-8986-4d1e-a15c-8a20d2cb894d",
   "metadata": {},
   "outputs": [
    {
     "name": "stdout",
     "output_type": "stream",
     "text": [
      "['https://asuracomics.com/manga/9625261433-martial-god-regressed-to-level-2/', 'https://asuracomics.com/manga/9625261433-the-novels-extra-remake/', 'https://asuracomics.com/manga/9625261433-revenge-of-the-iron-blooded-sword-hound/', 'https://asuracomics.com/manga/9625261433-reincarnation-of-the-suicidal-battle-god/', 'https://asuracomics.com/manga/9625261433-the-heavenly-demon-cant-live-a-normal-life/']\n",
      "['https://img.asuracomics.com/unsafe/fit-in/330x450/https://asuracomics.com/wp-content/uploads/2023/07/replicate-prediction-racly3rbhmzlnnex2krwvuaada.png', 'https://img.asuracomics.com/unsafe/fit-in/330x450/https://asuracomics.com/wp-content/uploads/2022/06/novelextraCover02.png', 'https://img.asuracomics.com/unsafe/fit-in/330x450/https://asuracomics.com/wp-content/uploads/2023/04/IronBloodSwordHound05-1.png', 'https://img.asuracomics.com/unsafe/fit-in/330x450/https://asuracomics.com/wp-content/uploads/2021/06/battleGodCover03.png', 'https://img.asuracomics.com/unsafe/fit-in/330x450/https://asuracomics.com/wp-content/uploads/2023/07/HeavenlyDemonCover0222.png']\n",
      "['Manhwa', 'Manhwa', 'Manhwa', 'Manhwa', 'Manhwa']\n",
      "['\\nMartial God Regressed to Level 2 ', '\\nThe Novel’s Extra (Remake) ', '\\nRevenge of the Iron-Blooded Sword Hound ', '\\nReincarnation of the Suicidal Battle God ', '\\nThe Heavenly Demon Can’t Live a Normal Life ']\n",
      "['Chapter 27', 'Chapter 75', 'Chapter 43', 'Chapter 91', 'Chapter 85 - Use power to subdue power']\n",
      "['9.8', '9.9', '9.8', '10', '9.9']\n"
     ]
    }
   ],
   "source": [
    "popular_today_links = []\n",
    "popular_today_imgs = []\n",
    "popular_today_types = []\n",
    "popular_today_names = []\n",
    "popular_today_chapters = []\n",
    "popular_today_rating = []\n",
    "\n",
    "for t in popular_today_link:\n",
    "  popular_today_links.append(t.attrs.get(\"href\"))\n",
    "for t in popular_today_img:\n",
    "  popular_today_imgs.append(t.attrs.get(\"src\"))\n",
    "for t in popular_today_type:\n",
    "  popular_today_types.append(t.get_text())\n",
    "for t in popular_today_name:\n",
    "  popular_today_names.append(t.get_text())\n",
    "for t in popular_today_chapter:\n",
    "  popular_today_chapters.append(t.get_text())\n",
    "for t in popular_today_rate:\n",
    "  popular_today_rating.append(t.get_text())\n",
    "\n",
    "print(popular_today_links)\n",
    "print(popular_today_imgs)\n",
    "print(popular_today_types)\n",
    "print(popular_today_names)\n",
    "print(popular_today_chapters)\n",
    "print(popular_today_rating)"
   ]
  },
  {
   "cell_type": "code",
   "execution_count": 38,
   "id": "ef8f2ba3-8a94-435a-96ef-4135874717f4",
   "metadata": {},
   "outputs": [
    {
     "name": "stdout",
     "output_type": "stream",
     "text": [
      "                                 popular today links  \\\n",
      "0  https://asuracomics.com/manga/9625261433-marti...   \n",
      "1  https://asuracomics.com/manga/9625261433-the-n...   \n",
      "2  https://asuracomics.com/manga/9625261433-reven...   \n",
      "3  https://asuracomics.com/manga/9625261433-reinc...   \n",
      "4  https://asuracomics.com/manga/9625261433-the-h...   \n",
      "\n",
      "                                 popular today image popular today types  \\\n",
      "0  https://img.asuracomics.com/unsafe/fit-in/330x...              Manhwa   \n",
      "1  https://img.asuracomics.com/unsafe/fit-in/330x...              Manhwa   \n",
      "2  https://img.asuracomics.com/unsafe/fit-in/330x...              Manhwa   \n",
      "3  https://img.asuracomics.com/unsafe/fit-in/330x...              Manhwa   \n",
      "4  https://img.asuracomics.com/unsafe/fit-in/330x...              Manhwa   \n",
      "\n",
      "                              popular today names  \\\n",
      "0             \\nMartial God Regressed to Level 2    \n",
      "1                   \\nThe Novel’s Extra (Remake)    \n",
      "2      \\nRevenge of the Iron-Blooded Sword Hound    \n",
      "3     \\nReincarnation of the Suicidal Battle God    \n",
      "4  \\nThe Heavenly Demon Can’t Live a Normal Life    \n",
      "\n",
      "                   popular today chapters popular today ratings  \n",
      "0                              Chapter 27                   9.8  \n",
      "1                              Chapter 75                   9.9  \n",
      "2                              Chapter 43                   9.8  \n",
      "3                              Chapter 91                    10  \n",
      "4  Chapter 85 - Use power to subdue power                   9.9  \n"
     ]
    }
   ],
   "source": [
    "df = pd.DataFrame(\n",
    "    {\"popular today links\" : popular_today_links,\n",
    "     'popular today image': popular_today_imgs,\n",
    "     \"popular today types\" : popular_today_types,\n",
    "     \"popular today names\" : popular_today_names,\n",
    "     \"popular today chapters\" : popular_today_chapters,\n",
    "     \"popular today ratings\" : popular_today_rating}\n",
    "    )\n",
    "\n",
    "print (df.head())\n",
    "\n",
    "df.to_csv('Asurascans.csv', index=False)"
   ]
  },
  {
   "cell_type": "code",
   "execution_count": 14,
   "id": "d2dc65cb-ce76-460a-8df8-50b5adefdcfc",
   "metadata": {},
   "outputs": [
    {
     "name": "stdout",
     "output_type": "stream",
     "text": [
      "<img class=\"ts-post-image wp-post-image attachment-medium size-medium\" loading=\"lazy\" src=\"https://img.asuracomics.com/unsafe/fit-in/130x170/https://asuracomics.com/wp-content/uploads/2023/09/output-3.png\"/>\n",
      "how many images of popular series? 30\n"
     ]
    }
   ],
   "source": [
    "popular_img = soup.select('div.imgseries a.series img')\n",
    "print(popular_img[0])\n",
    "print(\"how many images of popular series?\",len(soup.select('div.imgseries a.series img')))"
   ]
  },
  {
   "cell_type": "code",
   "execution_count": 21,
   "id": "ac1e1280-43f8-4977-8531-5983611b0695",
   "metadata": {},
   "outputs": [
    {
     "name": "stdout",
     "output_type": "stream",
     "text": [
      "<a class=\"series\" href=\"https://asuracomics.com/manga/devil-returns-to-school-days/\" rel=\"250079\">Devil Returns To School Days</a>\n",
      "how many popular titles are there? 30\n"
     ]
    }
   ],
   "source": [
    "popular_name = soup.select('div.leftseries a.series')\n",
    "print(popular_name[0])\n",
    "print(\"how many popular titles are there?\",len(soup.select('div.leftseries a.series')))"
   ]
  },
  {
   "cell_type": "code",
   "execution_count": 42,
   "id": "499f9442-c36b-4d8f-84ea-2e6013f61071",
   "metadata": {},
   "outputs": [
    {
     "name": "stdout",
     "output_type": "stream",
     "text": [
      "<span style=\"width:95%\"></span>\n",
      "how much is their rating percentage today? 30\n"
     ]
    }
   ],
   "source": [
    "popular_rating = soup.select('div.leftseries div.rt div.rating span')\n",
    "print(popular_rating[0])\n",
    "print(\"how much is their rating percentage today?\",len(soup.select('div.leftseries div.rt div.rating span')))"
   ]
  },
  {
   "cell_type": "code",
   "execution_count": 45,
   "id": "d2c4a70d-6ff5-4dd0-885e-e1bb857ba94c",
   "metadata": {},
   "outputs": [
    {
     "name": "stdout",
     "output_type": "stream",
     "text": [
      "<div class=\"numscore\">9.5</div>\n",
      "how much is their rating today? 30\n"
     ]
    }
   ],
   "source": [
    "popular_rate = soup.select('div.leftseries div.rt div.rating div.numscore')\n",
    "print(popular_rate[0])\n",
    "print(\"how much is their rating today?\",len(soup.select('div.leftseries div.rt div.rating div.numscore')))"
   ]
  },
  {
   "cell_type": "code",
   "execution_count": 53,
   "id": "6ca54776-d54b-4980-880d-6be0213e8478",
   "metadata": {},
   "outputs": [
    {
     "name": "stdout",
     "output_type": "stream",
     "text": [
      "['https://img.asuracomics.com/unsafe/fit-in/130x170/https://asuracomics.com/wp-content/uploads/2023/09/output-3.png', 'https://img.asuracomics.com/unsafe/fit-in/130x170/https://asuracomics.com/wp-content/uploads/2023/09/output-1-1.png', 'https://img.asuracomics.com/unsafe/fit-in/130x170/https://asuracomics.com/wp-content/uploads/2023/09/output.png', 'https://img.asuracomics.com/unsafe/fit-in/130x170/https://asuracomics.com/wp-content/uploads/2023/09/output-1.png', 'https://img.asuracomics.com/unsafe/fit-in/130x170/https://asuracomics.com/wp-content/uploads/2023/04/IronBloodSwordHound05-1.png', 'https://img.asuracomics.com/unsafe/fit-in/130x170/https://asuracomics.com/wp-content/uploads/2023/07/AcademyGeniusSwordmasterCover01.png', 'https://img.asuracomics.com/unsafe/fit-in/130x170/https://asuracomics.com/wp-content/uploads/2023/07/1-S3ceLSeKeH90hR0yKinXq0filenameo1.jpg', 'https://img.asuracomics.com/unsafe/fit-in/130x170/https://asuracomics.com/wp-content/uploads/2023/08/DragonDevouringMageCover01.png', 'https://img.asuracomics.com/unsafe/fit-in/130x170/https://asuracomics.com/wp-content/uploads/2023/07/HeavenlyDemonCover0222.png', 'https://img.asuracomics.com/unsafe/fit-in/130x170/https://asuracomics.com/wp-content/uploads/2021/06/battleGodCover03.png', 'https://img.asuracomics.com/unsafe/fit-in/130x170/https://asuracomics.com/wp-content/uploads/2023/08/TheReincarnatedAssassinisaGeniusSwordsmanCover01-1.png', 'https://img.asuracomics.com/unsafe/fit-in/130x170/https://asuracomics.com/wp-content/uploads/2023/08/CoverFinal.png', 'https://img.asuracomics.com/unsafe/fit-in/130x170/https://asuracomics.com/wp-content/uploads/2023/09/output.png', 'https://img.asuracomics.com/unsafe/fit-in/130x170/https://asuracomics.com/wp-content/uploads/2023/08/WeaponMakerBlackCover01.png', 'https://img.asuracomics.com/unsafe/fit-in/130x170/https://asuracomics.com/wp-content/uploads/2023/07/AcademyGeniusSwordmasterCover01.png', 'https://img.asuracomics.com/unsafe/fit-in/130x170/https://asuracomics.com/wp-content/uploads/2023/09/replicate-prediction-3kclwpzboe47av73o5j4d6ddri.png', 'https://img.asuracomics.com/unsafe/fit-in/130x170/https://asuracomics.com/wp-content/uploads/2023/04/IronBloodSwordHound05-1.png', 'https://img.asuracomics.com/unsafe/fit-in/130x170/https://asuracomics.com/wp-content/uploads/2023/07/replicate-prediction-racly3rbhmzlnnex2krwvuaada.png', 'https://img.asuracomics.com/unsafe/fit-in/130x170/https://asuracomics.com/wp-content/uploads/2021/07/solomaxlevelnewbie.jpg', 'https://img.asuracomics.com/unsafe/fit-in/130x170/https://asuracomics.com/wp-content/uploads/2023/08/DragonDevouringMageCover01.png', 'https://img.asuracomics.com/unsafe/fit-in/130x170/https://asuracomics.com/wp-content/uploads/2021/06/battleGodCover03.png', 'https://img.asuracomics.com/unsafe/fit-in/130x170/https://asuracomics.com/wp-content/uploads/2021/03/cover.jpg', 'https://img.asuracomics.com/unsafe/fit-in/130x170/https://asuracomics.com/wp-content/uploads/2021/02/Player_That_Cant_Level_Up_Title_Card_-_Barak_kopya.jpg', 'https://img.asuracomics.com/unsafe/fit-in/130x170/https://asuracomics.com/wp-content/uploads/2021/07/solomaxlevelnewbie.jpg', 'https://img.asuracomics.com/unsafe/fit-in/130x170/https://asuracomics.com/wp-content/uploads/2021/04/The_lords_coins_arent_decreasing_kopyaPhotoauto_scaleLevel3width-1000.png', 'https://img.asuracomics.com/unsafe/fit-in/130x170/https://asuracomics.com/wp-content/uploads/2021/06/666666.jpg', 'https://img.asuracomics.com/unsafe/fit-in/130x170/https://asuracomics.com/wp-content/uploads/2021/04/kapkaw-copy-222x300.jpg', 'https://img.asuracomics.com/unsafe/fit-in/130x170/https://asuracomics.com/wp-content/uploads/2020/11/CoverRD.jpg', 'https://img.asuracomics.com/unsafe/fit-in/130x170/https://asuracomics.com/wp-content/uploads/2021/01/doctors-rebirth-cover-222x300.jpg', 'https://img.asuracomics.com/unsafe/fit-in/130x170/https://asuracomics.com/wp-content/uploads/2020/11/TamingMasterCover08.png']\n",
      "['lazy', 'lazy', 'lazy', 'lazy', 'lazy', 'lazy', 'lazy', 'lazy', 'lazy', 'lazy', 'lazy', 'lazy', 'lazy', 'lazy', 'lazy', 'lazy', 'lazy', 'lazy', 'lazy', 'lazy', 'lazy', 'lazy', 'lazy', 'lazy', 'lazy', 'lazy', 'lazy', 'lazy', 'lazy', 'lazy']\n",
      "['Devil Returns To School Days', 'Return of the Bloodthirsty Police', 'Insanely-Talented Player', 'Killer Pietro', 'Revenge of the Iron-Blooded Sword Hound', \"Academy's Genius Swordmaster\", 'Golden Mage', 'Dragon-Devouring Mage', \"The Heavenly Demon Can't Live a Normal Life\", 'Reincarnation of the Suicidal Battle God', 'The Reincarnated Assassin is a Genius Swordsman', 'Reborn as the Enemy Prince', 'Insanely-Talented Player', 'Weapon Maker', \"Academy's Genius Swordmaster\", \"Regressor's Life After Retirement\", 'Revenge of the Iron-Blooded Sword Hound', 'Martial God Regressed to Level 2', 'Solo Max-Level Newbie', 'Dragon-Devouring Mage', 'Reincarnation of the Suicidal Battle God', 'Return of the Mount Hua Sect', \"Player Who Can't Level Up\", 'Solo Max-Level Newbie', \"The Lord's Coins Aren't Decreasing?!\", 'The Dark Magician Transmigrates After 66666 Years', 'The Constellation That Returned From Hell', 'Worn and Torn Newbie', 'Doctor’s Rebirth', 'Taming Master']\n",
      "['https://asuracomics.com/manga/devil-returns-to-school-days/', 'https://asuracomics.com/manga/return-of-the-bloodthirsty-police/', 'https://asuracomics.com/manga/9625261433-insanely-talented-player/', 'https://asuracomics.com/manga/9625261433-killer-pietro/', 'https://asuracomics.com/manga/9625261433-revenge-of-the-iron-blooded-sword-hound/', 'https://asuracomics.com/manga/9625261433-academys-genius-swordmaster/', 'https://asuracomics.com/manga/9625261433-golden-mage/', 'https://asuracomics.com/manga/9625261433-dragon-devouring-mage/', 'https://asuracomics.com/manga/9625261433-the-heavenly-demon-cant-live-a-normal-life/', 'https://asuracomics.com/manga/9625261433-reincarnation-of-the-suicidal-battle-god/', 'https://asuracomics.com/manga/9625261433-the-reincarnated-assassin-is-a-genius-swordsman/', 'https://asuracomics.com/manga/9625261433-reborn-as-the-enemy-prince/', 'https://asuracomics.com/manga/9625261433-insanely-talented-player/', 'https://asuracomics.com/manga/9625261433-weapon-maker/', 'https://asuracomics.com/manga/9625261433-academys-genius-swordmaster/', 'https://asuracomics.com/manga/9625261433-regressors-life-after-retirement/', 'https://asuracomics.com/manga/9625261433-revenge-of-the-iron-blooded-sword-hound/', 'https://asuracomics.com/manga/9625261433-martial-god-regressed-to-level-2/', 'https://asuracomics.com/manga/9625261433-solo-max-level-newbie/', 'https://asuracomics.com/manga/9625261433-dragon-devouring-mage/', 'https://asuracomics.com/manga/9625261433-reincarnation-of-the-suicidal-battle-god/', 'https://asuracomics.com/manga/9625261433-return-of-the-mount-hua-sect/', 'https://asuracomics.com/manga/9625261433-player-who-cant-level-up/', 'https://asuracomics.com/manga/9625261433-solo-max-level-newbie/', 'https://asuracomics.com/manga/9625261433-the-lords-coins-arent-decreasing/', 'https://asuracomics.com/manga/9625261433-the-dark-magician-transmigrates-after-66666-years/', 'https://asuracomics.com/manga/9625261433-the-constellation-that-returned-from-hell/', 'https://asuracomics.com/manga/9625261433-worn-and-torn-newbie/', 'https://asuracomics.com/manga/9625261433-doctors-rebirth/', 'https://asuracomics.com/manga/9625261433-taming-master/']\n",
      "['width:95%', 'width:95%', 'width:97%', 'width:98%', 'width:98%', 'width:95%', 'width:80%', 'width:97%', 'width:99%', 'width:100%', 'width:98%', 'width:93%', 'width:97%', 'width:93%', 'width:95%', 'width:91%', 'width:98%', 'width:98%', 'width:99%', 'width:97%', 'width:100%', 'width:100%', 'width:99%', 'width:99%', 'width:97%', 'width:99%', 'width:94%', 'width:95%', 'width:99%', 'width:100%']\n",
      "['9.5', '9.5', '9.7', '9.8', '9.8', '9.5', '8', '9.7', '9.9', '10', '9.8', '9.3', '9.7', '9.3', '9.5', '9.1', '9.8', '9.8', '9.9', '9.7', '10', '10', '9.9', '9.9', '9.7', '9.9', '9.4', '9.5', '9.9', '10']\n"
     ]
    }
   ],
   "source": [
    "popular_imgs = []\n",
    "popular_imgs_load = []\n",
    "popular_names = []\n",
    "popular_links = []\n",
    "popular_ratings = []\n",
    "popular_rates = []\n",
    "\n",
    "for t in popular_img:\n",
    "  popular_imgs.append(t.attrs.get(\"src\"))\n",
    "for t in popular_img:\n",
    "  popular_imgs_load.append(t.attrs.get(\"loading\"))\n",
    "for t in popular_name:\n",
    "  popular_names.append(t.get_text())\n",
    "for t in popular_name:\n",
    "  popular_links.append(t.attrs.get(\"href\"))\n",
    "for t in popular_rating:\n",
    "  popular_ratings.append(t.attrs.get(\"style\"))\n",
    "for t in popular_rate:\n",
    "  popular_rates.append(t.get_text())\n",
    "\n",
    "print(popular_imgs)\n",
    "print(popular_imgs_load)\n",
    "print(popular_names)\n",
    "print(popular_links)\n",
    "print(popular_ratings)\n",
    "print(popular_rates)"
   ]
  },
  {
   "cell_type": "code",
   "execution_count": 54,
   "id": "95253dc0-09f3-4c81-811e-57613ce880b2",
   "metadata": {},
   "outputs": [
    {
     "name": "stdout",
     "output_type": "stream",
     "text": [
      "                                       popular image popular image load  \\\n",
      "0  https://img.asuracomics.com/unsafe/fit-in/130x...               lazy   \n",
      "1  https://img.asuracomics.com/unsafe/fit-in/130x...               lazy   \n",
      "2  https://img.asuracomics.com/unsafe/fit-in/130x...               lazy   \n",
      "3  https://img.asuracomics.com/unsafe/fit-in/130x...               lazy   \n",
      "4  https://img.asuracomics.com/unsafe/fit-in/130x...               lazy   \n",
      "\n",
      "                             popular names  \\\n",
      "0             Devil Returns To School Days   \n",
      "1        Return of the Bloodthirsty Police   \n",
      "2                 Insanely-Talented Player   \n",
      "3                            Killer Pietro   \n",
      "4  Revenge of the Iron-Blooded Sword Hound   \n",
      "\n",
      "                                       popular links popular ratings  \\\n",
      "0  https://asuracomics.com/manga/devil-returns-to...       width:95%   \n",
      "1  https://asuracomics.com/manga/return-of-the-bl...       width:95%   \n",
      "2  https://asuracomics.com/manga/9625261433-insan...       width:97%   \n",
      "3  https://asuracomics.com/manga/9625261433-kille...       width:98%   \n",
      "4  https://asuracomics.com/manga/9625261433-reven...       width:98%   \n",
      "\n",
      "  popular rates  \n",
      "0           9.5  \n",
      "1           9.5  \n",
      "2           9.7  \n",
      "3           9.8  \n",
      "4           9.8  \n"
     ]
    }
   ],
   "source": [
    "df = pd.DataFrame(\n",
    "    {'popular image': popular_imgs,\n",
    "     \"popular image load\" : popular_imgs_load,\n",
    "     \"popular names\" : popular_names,\n",
    "     \"popular links\" : popular_links,\n",
    "     \"popular ratings\" : popular_ratings,\n",
    "     \"popular rates\" : popular_rates}\n",
    "    )\n",
    "\n",
    "print (df.head())\n",
    "\n",
    "df.to_csv('Asurascans2.csv', index=False)"
   ]
  },
  {
   "cell_type": "code",
   "execution_count": 55,
   "id": "a6bce938-c8a3-4341-9b09-01c831a107bf",
   "metadata": {},
   "outputs": [
    {
     "name": "stdout",
     "output_type": "stream",
     "text": [
      "<a href=\"https://asuracomics.com/genres/action/\" rel=\"tag\">Action</a>\n",
      "how many popular titles are there? 150\n"
     ]
    }
   ],
   "source": [
    "popular_genre = soup.select('div.leftseries span a')\n",
    "print(popular_genre[0])\n",
    "print(\"how many popular titles are there?\",len(soup.select('div.leftseries span a')))"
   ]
  },
  {
   "cell_type": "code",
   "execution_count": 56,
   "id": "75852ef8-e989-47d9-b94d-499ef7801692",
   "metadata": {},
   "outputs": [
    {
     "name": "stdout",
     "output_type": "stream",
     "text": [
      "['Action', 'Adventure', 'Drama', 'Revenge', 'Violence', 'Action', 'Adventure', 'Crazy MC', 'Revenge', 'Violence', 'Action', 'Adventure', 'Fantasy', 'Genius MC', 'Action', 'Adventure', 'Drama', 'Action', 'Adventure', 'Fantasy', 'Martial Arts', 'Returner', 'Revenge', 'Supernatural', 'Action', 'Adventure', 'Fantasy', 'Genius MC', 'Returner', 'Adventure', 'Fantasy', 'Magic', 'Reincarnation', 'Shounen', 'Action', 'Adventure', 'Fantasy', 'Magic', 'Returner', 'Action', 'Fantasy', 'Magic', 'Martial Arts', 'Noble', 'Shounen', 'Adventure', 'Fantasy', 'Overpowered', 'Returner', 'Shounen', 'Action', 'Adventure', 'Fantasy', 'Martial Arts', 'Reincarnation', 'Action', 'Adventure', 'Comedy', 'Fantasy', 'Mystery', 'Rebirth', 'Action', 'Adventure', 'Fantasy', 'Genius MC', 'Action', 'Adventure', 'Fantasy', 'Action', 'Adventure', 'Fantasy', 'Genius MC', 'Returner', 'Action', 'Adventure', 'Comedy', 'Overpowered', 'Regression', 'Action', 'Adventure', 'Fantasy', 'Martial Arts', 'Returner', 'Revenge', 'Supernatural', 'Action', 'Fantasy', 'Martial Arts', 'Overpowered', 'Regression', 'Reincarnation', 'Action', 'Adventure', 'Comedy', 'Fantasy', 'Game', 'tower', 'Action', 'Adventure', 'Fantasy', 'Magic', 'Returner', 'Adventure', 'Fantasy', 'Overpowered', 'Returner', 'Shounen', 'Action', 'Adventure', 'Comedy', 'Fantasy', 'Martial Arts', 'Rebirth', 'Shounen', 'Action', 'Adventure', 'Fantasy', 'Mystery', 'Action', 'Adventure', 'Comedy', 'Fantasy', 'Game', 'tower', 'Action', 'Adventure', 'Fantasy', 'Time Travel', 'Adventure', 'Fantasy', 'Magic', 'Overpowered', 'Rebirth', 'Shounen', 'Webtoon', 'Action', 'Fantasy', 'Returner', 'Shounen', 'Action', 'Adventure', 'Fantasy', 'Shounen', 'Action', 'Fantasy', 'Isekai', 'Martial Arts', 'Adventure', 'Fantasy', 'Virtual Reality']\n"
     ]
    }
   ],
   "source": [
    "popular_genres = []\n",
    "\n",
    "for t in popular_genre:\n",
    "    popular_genres.append(t.get_text())\n",
    "\n",
    "print(popular_genres)"
   ]
  },
  {
   "cell_type": "code",
   "execution_count": 57,
   "id": "b4a1f173-345f-48a0-b423-f73dd336a892",
   "metadata": {},
   "outputs": [
    {
     "name": "stdout",
     "output_type": "stream",
     "text": [
      "                                       popular image popular image load  \\\n",
      "0  https://img.asuracomics.com/unsafe/fit-in/130x...               lazy   \n",
      "1  https://img.asuracomics.com/unsafe/fit-in/130x...               lazy   \n",
      "2  https://img.asuracomics.com/unsafe/fit-in/130x...               lazy   \n",
      "3  https://img.asuracomics.com/unsafe/fit-in/130x...               lazy   \n",
      "4  https://img.asuracomics.com/unsafe/fit-in/130x...               lazy   \n",
      "\n",
      "                             popular names  \\\n",
      "0             Devil Returns To School Days   \n",
      "1        Return of the Bloodthirsty Police   \n",
      "2                 Insanely-Talented Player   \n",
      "3                            Killer Pietro   \n",
      "4  Revenge of the Iron-Blooded Sword Hound   \n",
      "\n",
      "                                       popular links popular ratings  \\\n",
      "0  https://asuracomics.com/manga/devil-returns-to...       width:95%   \n",
      "1  https://asuracomics.com/manga/return-of-the-bl...       width:95%   \n",
      "2  https://asuracomics.com/manga/9625261433-insan...       width:97%   \n",
      "3  https://asuracomics.com/manga/9625261433-kille...       width:98%   \n",
      "4  https://asuracomics.com/manga/9625261433-reven...       width:98%   \n",
      "\n",
      "  popular rates popular genres  \n",
      "0           9.5         Action  \n",
      "1           9.5      Adventure  \n",
      "2           9.7          Drama  \n",
      "3           9.8        Revenge  \n",
      "4           9.8       Violence  \n"
     ]
    }
   ],
   "source": [
    "max_length = max(len(popular_imgs), len(popular_imgs_load), len(popular_names), len(popular_links), len(popular_ratings), len(popular_rates), len(popular_genres))\n",
    "\n",
    "popular_imgs += [None] * (max_length - len(popular_imgs))\n",
    "popular_imgs_load += [None] * (max_length - len(popular_imgs_load))\n",
    "popular_names += [None] * (max_length - len(popular_names))\n",
    "popular_links += [None] * (max_length - len(popular_links))\n",
    "popular_ratings += [None] * (max_length - len(popular_ratings))\n",
    "popular_rates += [None] * (max_length - len(popular_rates))\n",
    "popular_genres += [None] * (max_length - len(popular_genres))\n",
    "\n",
    "df = pd.DataFrame(\n",
    "    {'popular image': popular_imgs,\n",
    "     \"popular image load\" : popular_imgs_load,\n",
    "     \"popular names\" : popular_names,\n",
    "     \"popular links\" : popular_links,\n",
    "     \"popular ratings\" : popular_ratings,\n",
    "     \"popular rates\" : popular_rates,\n",
    "     \"popular genres\" : popular_genres}\n",
    "    )\n",
    "\n",
    "print (df.head())\n",
    "\n",
    "df.to_csv('Asurascans2_extended.csv', index=False)"
   ]
  },
  {
   "cell_type": "code",
   "execution_count": null,
   "id": "b117abed-8d63-467a-b333-142811d3aff5",
   "metadata": {},
   "outputs": [],
   "source": []
  }
 ],
 "metadata": {
  "kernelspec": {
   "display_name": "Python 3 (ipykernel)",
   "language": "python",
   "name": "python3"
  },
  "language_info": {
   "codemirror_mode": {
    "name": "ipython",
    "version": 3
   },
   "file_extension": ".py",
   "mimetype": "text/x-python",
   "name": "python",
   "nbconvert_exporter": "python",
   "pygments_lexer": "ipython3",
   "version": "3.10.7"
  }
 },
 "nbformat": 4,
 "nbformat_minor": 5
}
