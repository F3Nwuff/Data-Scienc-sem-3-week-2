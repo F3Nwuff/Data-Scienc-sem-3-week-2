{
 "cells": [
  {
   "cell_type": "code",
   "execution_count": 2,
   "id": "feb4fb5f-3b6a-4512-bfa8-cf2987cd2fe2",
   "metadata": {},
   "outputs": [],
   "source": [
    "from bs4 import BeautifulSoup\n",
    "import requests\n",
    "import re\n",
    "import pandas as pd"
   ]
  },
  {
   "cell_type": "code",
   "execution_count": 3,
   "id": "b6d62bb3-1d37-41df-a249-9c1e5972a117",
   "metadata": {},
   "outputs": [],
   "source": [
    "headers = {'Accept-Language': 'en-US,en;q=0.8'}\n",
    "url = 'https://vvw.dramacoool.co/'\n",
    "response = requests.get(url,headers=headers)\n",
    "soup = BeautifulSoup(response.text, \"html.parser\")"
   ]
  },
  {
   "cell_type": "code",
   "execution_count": 94,
   "id": "0c7f0035-89d3-4aad-a06c-61545c039685",
   "metadata": {},
   "outputs": [
    {
     "name": "stdout",
     "output_type": "stream",
     "text": [
      "<h3 class=\"title\">Numbers (2023)</h3>\n",
      "how many recently releases are available? 102\n"
     ]
    }
   ],
   "source": [
    "recently_released = soup.select('ul li a h3.title')\n",
    "print(recently_released[0])\n",
    "print(\"how many recently releases are available?\",len(soup.select('ul li a h3.title')))"
   ]
  },
  {
   "cell_type": "code",
   "execution_count": 95,
   "id": "26371bfd-50d4-471d-8979-e35c4ee2af58",
   "metadata": {},
   "outputs": [
    {
     "name": "stdout",
     "output_type": "stream",
     "text": [
      "<span class=\"time\">3 hours ago</span>\n",
      "how many times were there released? 102\n"
     ]
    }
   ],
   "source": [
    "recently_released_time = soup.select('ul li a span.time')\n",
    "print(recently_released_time[0])\n",
    "print(\"how many times were there released?\",len(soup.select('ul li a span.time')))"
   ]
  },
  {
   "cell_type": "code",
   "execution_count": 96,
   "id": "c3915a62-b8fe-4946-a032-6e6a60c1b51e",
   "metadata": {},
   "outputs": [
    {
     "name": "stdout",
     "output_type": "stream",
     "text": [
      "<span class=\"ep SUB\">EP 9</span>\n",
      "what episodes are new? 102\n"
     ]
    }
   ],
   "source": [
    "recently_released_ep = soup.select('ul li a span.ep')\n",
    "print(recently_released_ep[0])\n",
    "print(\"what episodes are new?\",len(soup.select('ul li a span.ep')))"
   ]
  },
  {
   "cell_type": "code",
   "execution_count": 97,
   "id": "1e68c2c6-a251-4150-84ba-9036bf10887a",
   "metadata": {},
   "outputs": [
    {
     "name": "stdout",
     "output_type": "stream",
     "text": [
      "<img alt=\"Numbers (2023) Episode 9\" class=\"lazy.js\" data-original=\"https://vvw.dramacoool.co/wp-content/uploads/2023/06/Numbers-2023.jpg\" loading=\"lazy\" src=\"https://vvw.dramacoool.co/wp-content/uploads/2023/06/Numbers-2023.jpg\" style=\"display: block;\"/>\n",
      "how many images were there? 102\n"
     ]
    }
   ],
   "source": [
    "recently_released_img = soup.select('div.tab-content ul li a img')\n",
    "print(recently_released_img[0])\n",
    "print(\"how many images were there?\",len(soup.select('div.tab-content ul li a img')))"
   ]
  },
  {
   "cell_type": "code",
   "execution_count": 98,
   "id": "294a23e6-e5b3-4574-978e-56b12d4129ae",
   "metadata": {},
   "outputs": [
    {
     "name": "stdout",
     "output_type": "stream",
     "text": [
      "<a href=\"https://vvw.dramacoool.co/love-me-again-2023-episode-6.html\">Love Me Again (2023) Episode 6</a>\n",
      "how many are coming soon? 21\n"
     ]
    }
   ],
   "source": [
    "coming_soon = soup.select('ul li h3.title a')\n",
    "print(coming_soon[0])\n",
    "print(\"how many are coming soon?\",len(soup.select('ul li h3.title a')))"
   ]
  },
  {
   "cell_type": "code",
   "execution_count": 99,
   "id": "5be2ab7a",
   "metadata": {},
   "outputs": [
    {
     "name": "stdout",
     "output_type": "stream",
     "text": [
      "<a class=\"img\" href=\"https://vvw.dramacoool.co/series/hidden-love-2023\" title=\"Hidden Love (2023)\">\n",
      "        Hidden Love (2023)      \n",
      "    </a>\n",
      "how many titles are ongoing? 25\n"
     ]
    }
   ],
   "source": [
    "ongoing_title = soup.select('h3 a.img')\n",
    "print(ongoing_title[0])\n",
    "print(\"how many titles are ongoing?\",len(soup.select('h3 a.img')))"
   ]
  },
  {
   "cell_type": "code",
   "execution_count": 102,
   "id": "2ae82b88-5395-4c0c-99f5-2c5da2741d6a",
   "metadata": {},
   "outputs": [
    {
     "name": "stdout",
     "output_type": "stream",
     "text": [
      "<a href=\"https://vvw.dramacoool.co/series/dr-romantic-season-3-2023\" title=\"Dr. Romantic Season 3 (2023)\">Dr. Romantic Season 3 (2023)</a>\n",
      "how many titles are popular? 36\n"
     ]
    }
   ],
   "source": [
    "popular_title = soup.select('div.block-tab div.block div.tab-content.left-tab-4 ul li a')\n",
    "print(popular_title[0])\n",
    "print(\"how many titles are popular?\",len(soup.select('div.block-tab div.block div.tab-content.left-tab-4 ul li a')))"
   ]
  },
  {
   "cell_type": "code",
   "execution_count": 103,
   "id": "7f0bbefc-b307-4741-a146-e1684e02c03e",
   "metadata": {},
   "outputs": [
    {
     "name": "stdout",
     "output_type": "stream",
     "text": [
      "['Numbers (2023)', 'Numbers (2023)', 'Numbers (2023)', 'Numbers (2023)', 'Numbers (2023)', 'Numbers (2023)', 'Numbers (2023)', 'Numbers (2023)', 'Numbers (2023)', 'Numbers (2023)', 'Numbers (2023)', 'Destined With You (2023)', 'Destined (2023)', 'Destined (2023)', 'The Killing Vote (2023)', 'A Nation of Banchan (2023)', 'Rakujitsu (2023)', 'Ao Haru Ride Season 1 (2023)', 'Kimi ni wa Todokanai. (2023)', 'Adult Kids (2023)', 'Halation Love (2023)', 'Living (2023)', 'Be Mine SuperStar (2023)', 'Doctor Detective (2023)', 'Meant To Be (2023)', 'Unpredictable Family (2023)', 'Elegant Empire (2023)', 'All the Way to the Sun (2023)', 'My Lovely Boxer (2023)', 'The Bride of Naga (2023)', 'The Brightest of Us (2023)', 'Romantic (2023)', 'Jiang Hu Jue Se Lu (2023)', 'Incomparable Beauty (2023)', 'I’ve Been to Your Future (2023)', 'Hello, Dong Dong En (2023)', 'Hidden Blade (2023)', 'Gangnam Zombie (2023)', 'Dream (2023)', 'My Heart Puppy (2023)', 'Phantom (2023)', 'My Happy Marriage (2023)', 'Moments of Love (2023)', 'Love and Leashes (2022)', 'Kill Bok Soon (2023)', 'Just for Meeting You (2023)', 'Jung_E (2023)', 'J-Hope in the Box (2023)', 'Hunger (2023)', 'Cherry Magic! Thirty Years of Virginity Can Make You a Wizard?!: The Movie (2022)', 'Call Me Chihiro (2023)', 'Bogotá: City of the Lost (2023)', 'Ballerina (2023)', 'Bakumatsu Without Honor and Humanity (2023)', 'Ai Long Nhai: The Endless Love (2023)', '20th Century Girl (2022)', 'You & Me & Me (2023)', 'Yesterday Once More (2023)', 'When Our Love Remains As Scent (2023)', 'Utsukushii Kare: Special Edit Version (2023)', 'Unlocked (2023)', 'The Point Men (2023)', 'Switch (2023)', 'Soulmate (2023)', 'Rebound (2023)', 'Project Silence (2023) Movie', 'Mom’s Diary – My Ugly Duckling (2016)', '2 Days & 1 Night Season 4 (2019)', 'Smiling Boss (2023)', 'Express Delivery: Mongolia Edition (2023)', 'I Live Alone (2013)', 'To Maya After You (2023)', 'Knowing Bros (2015)', 'After Signal (2023)', 'Hangout with Yoo (2019)', 'Exo’s Ladder Season 4 (2023)', 'Omniscient Interfering View (2018)', 'King of Mask Singer (2015)', 'Amazing Saturday (2018)', 'Running Man', 'Heart Signal (CN) Season 6 (2023)', 'Amazing Saturday (2018)', 'The Return of Superman (2013)', 'Weekly Idol (2011)', 'KCSI: Smoking Gun (2023)', 'Heart Signal (CN) Season 6 (2023)', 'Adventure by Accident Season 2 (2023)', 'Is She the Wolf? (2023)', 'King of Mask Singer (2015)', 'Mom’s Diary – My Ugly Duckling (2016)', '2 Days & 1 Night Season 4 (2019)', 'Omniscient Interfering View (2018)', 'Running Man', 'King of Mask Singer (2015)', 'Omniscient Interfering View (2018)', 'Knowing Bros (2015)', 'To Maya After You (2023)', 'Hangout with Yoo (2019)', 'Amazing Saturday (2018)', 'I Live Alone (2013)', 'Convenience Store Restaurant (2019)', 'KCSI: Smoking Gun (2023)']\n",
      "['Love Me Again (2023) Episode 6', 'Warm on a Cold Night (2023) Episode 36', 'Warm on a Cold Night (2023) Episode 35', 'Justice in the Dark (2023) Episode 10', 'Justice in the Dark (2023) Episode 9', 'Justice in the Dark (2023) Episode 8', 'Justice in the Dark (2023) Episode 7', 'Justice in the Dark (2023) Episode 6', 'Justice in the Dark (2023) Episode 5', 'Justice in the Dark (2023) Episode 4', 'Justice in the Dark (2023) Episode 3', 'Justice in the Dark (2023) Episode 2', 'Justice in the Dark (2023) Episode 1', 'The Abyss (2023) Episode 14', 'The Abyss (2023) Episode 13', 'The Abyss (2023) Episode 12', 'The Abyss (2023) Episode 11', 'The Abyss (2023) Episode 10', 'The Abyss (2023) Episode 9', 'The Forbidden Flower (2023) Episode 15', 'Ameiro Paradox (2022) Episode 7']\n",
      "['https://vvw.dramacoool.co/love-me-again-2023-episode-6.html', 'https://vvw.dramacoool.co/warm-on-a-cold-night-2023-episode-36.html', 'https://vvw.dramacoool.co/warm-on-a-cold-night-2023-episode-35.html', 'https://vvw.dramacoool.co/justice-in-the-dark-2023-episode-10.html', 'https://vvw.dramacoool.co/justice-in-the-dark-2023-episode-9.html', 'https://vvw.dramacoool.co/justice-in-the-dark-2023-episode-8.html', 'https://vvw.dramacoool.co/justice-in-the-dark-2023-episode-7.html', 'https://vvw.dramacoool.co/justice-in-the-dark-2023-episode-6.html', 'https://vvw.dramacoool.co/justice-in-the-dark-2023-episode-5.html', 'https://vvw.dramacoool.co/justice-in-the-dark-2023-episode-4.html', 'https://vvw.dramacoool.co/justice-in-the-dark-2023-episode-3.html', 'https://vvw.dramacoool.co/justice-in-the-dark-2023-episode-2.html', 'https://vvw.dramacoool.co/justice-in-the-dark-2023-episode-1.html', 'https://vvw.dramacoool.co/the-abyss-2023-episode-14.html', 'https://vvw.dramacoool.co/the-abyss-2023-episode-13.html', 'https://vvw.dramacoool.co/the-abyss-2023-episode-12.html', 'https://vvw.dramacoool.co/the-abyss-2023-episode-11.html', 'https://vvw.dramacoool.co/the-abyss-2023-episode-10.html', 'https://vvw.dramacoool.co/the-abyss-2023-episode-9.html', 'https://vvw.dramacoool.co/the-forbidden-flower-2023-episode-15.html', 'https://vvw.dramacoool.co/ameiro-paradox-2022-episode-7-2.html']\n",
      "['\\n        Hidden Love (2023)      \\n    ', '\\n        King the Land (2023)      \\n    ', '\\n        Bitch X Rich (2023)      \\n    ', '\\n        Here We Meet Again (2023)      \\n    ', '\\n        The Real Has Come! (2023)      \\n    ', '\\n        When I Fly Towards You (2023)      \\n    ', '\\n        Bo Ra! Deborah (2023)      \\n    ', '\\n        Doctor Cha (2023)      \\n    ', '\\n        See You in My 19th Life (2023)      \\n    ', '\\n        Running Man      \\n    ', '\\n        Please Be My Family (2023)      \\n    ', '\\n        Delightfully Deceitful (2023)      \\n    ', '\\n        Moving (2023)      \\n    ', '\\n        Duty After School (2023)      \\n    ', '\\n        Heartbeat (2023)      \\n    ', '\\n        The Love You Give Me (2023)      \\n    ', '\\n        My Lovely Liar (2023)      \\n    ', '\\n        Call It Love (2023)      \\n    ', '\\n        Celebrity (2023)      \\n    ', '\\n        The Heavenly Idol (2023)      \\n    ', '\\n        Revenant (2023)      \\n    ', '\\n        Love in Contract (2022)      \\n    ', '\\n        Home School (2023)      \\n    ', '\\n        The Eighth Sense (2023)      \\n    ', '\\n        Ousama ni Sasagu Kusuriyubi (2023)      \\n    ']\n",
      "['https://vvw.dramacoool.co/series/hidden-love-2023', 'https://vvw.dramacoool.co/series/king-the-land-2023', 'https://vvw.dramacoool.co/series/bitch-x-rich-2023', 'https://vvw.dramacoool.co/series/here-we-meet-again-2023', 'https://vvw.dramacoool.co/series/the-real-has-come', 'https://vvw.dramacoool.co/series/when-i-fly-towards-you-2023', 'https://vvw.dramacoool.co/series/bo-ra-deborah-2023', 'https://vvw.dramacoool.co/series/doctor-cha-2023', 'https://vvw.dramacoool.co/series/see-you-in-my-19th-life-2023', 'https://vvw.dramacoool.co/series/running-man-2010', 'https://vvw.dramacoool.co/series/please-be-my-family-2023', 'https://vvw.dramacoool.co/series/delightfully-deceitful-2023', 'https://vvw.dramacoool.co/series/moving-2023', 'https://vvw.dramacoool.co/series/duty-after-school-2023', 'https://vvw.dramacoool.co/series/heartbeat-2023', 'https://vvw.dramacoool.co/series/the-love-you-give-me-2023', 'https://vvw.dramacoool.co/series/my-lovely-liar-2023-b', 'https://vvw.dramacoool.co/series/call-it-love-2023', 'https://vvw.dramacoool.co/series/celebrity-2023', 'https://vvw.dramacoool.co/series/the-heavenly-idol-2023', 'https://vvw.dramacoool.co/series/revenant-2023', 'https://vvw.dramacoool.co/series/love-in-contractbed-2022-j', 'https://vvw.dramacoool.co/series/home-school-2023', 'https://vvw.dramacoool.co/series/the-eighth-sense-2023', 'https://vvw.dramacoool.co/series/ousama-ni-sasagu-kusuriyubi-2023']\n",
      "['Dr. Romantic Season 3 (2023)', 'King the Land (2023)', 'Tale of the Nine-Tailed 1938 (2023)', 'Bitch X Rich (2023)', 'The Good Bad Mother (2023)', 'True Beauty (2020)', 'The Real Has Come! (2023)', 'Bo Ra! Deborah (2023)', 'Doctor Cha (2023)', 'See You in My 19th Life (2023)', 'Delightfully Deceitful (2023)', 'Moving (2023)', 'Duty After School (2023)', 'Heartbeat (2023)', 'My Lovely Liar (2023)', 'A Business Proposal (2022)', 'Call It Love (2023)', 'Celebrity (2023)', 'My Perfect Stranger (2023)', 'Vincenzo (2021)', 'The Heavenly Idol (2023)', 'Revenant (2023)', 'Love in Contract (2022)', 'The Eighth Sense (2023)', 'Black Knight (2023)', 'Goblin (2016)', 'Family: The Unbreakable Bond (2023)', 'Our Blooming Youth (2023)', 'Tale of the Nine-Tailed (2020)', 'Big Mouth (2022)', 'Love to Hate You (2023)', 'Lies Hidden in My Garden (2023)', 'Our Dating Sim (2023)', 'The Uncanny Counter Season 2: Counter Punch (2023)', 'Destined With You (2023)', 'Crash Course in Romance (2023)']\n",
      "['3 hours ago', '3 hours ago', '3 hours ago', '3 hours ago', '3 hours ago', '3 hours ago', '3 hours ago', '3 hours ago', '3 hours ago', '3 hours ago', '3 hours ago', '3 hours ago', '3 hours ago', '3 hours ago', '5 hours ago', '5 hours ago', '5 hours ago', '5 hours ago', '5 hours ago', '6 hours ago', '6 hours ago', '6 hours ago', '6 hours ago', '6 hours ago', '6 hours ago', '6 hours ago', '6 hours ago', '6 hours ago', '6 hours ago', '6 hours ago', '6 hours ago', '6 hours ago', '6 hours ago', '6 hours ago', '6 hours ago', '6 hours ago', '2 months ago', '2 months ago', '3 months ago', '3 months ago', '3 months ago', '3 months ago', '3 months ago', '3 months ago', '3 months ago', '3 months ago', '3 months ago', '3 months ago', '3 months ago', '3 months ago', '3 months ago', '3 months ago', '3 months ago', '3 months ago', '3 months ago', '3 months ago', '3 months ago', '3 months ago', '3 months ago', '3 months ago', '3 months ago', '3 months ago', '3 months ago', '3 months ago', '3 months ago', '3 months ago', '19 hours ago', '19 hours ago', '23 hours ago', '1 day ago', '1 day ago', '1 day ago', '1 day ago', '1 day ago', '1 day ago', '1 day ago', '1 day ago', '1 day ago', '2 days ago', '2 days ago', '3 days ago', '3 days ago', '4 days ago', '4 days ago', '4 days ago', '5 days ago', '6 days ago', '6 days ago', '1 week ago', '1 week ago', '1 week ago', '1 week ago', '1 week ago', '1 week ago', '1 week ago', '1 week ago', '1 week ago', '1 week ago', '1 week ago', '1 week ago', '1 week ago', '1 week ago']\n",
      "['EP 9', 'EP 8', 'EP 7', 'EP 6', 'EP 5', 'EP 4', 'EP 12', 'EP 11', 'EP 10', 'EP 1', 'EP 3', 'EP 7', 'EP 30', 'EP 12', 'EP 7', 'EP 2', 'EP 2', 'EP 1', 'EP 1', 'EP 8', 'EP 7', 'EP 4', 'EP 12', 'EP 9', 'EP 108', 'EP 1', 'EP 30', 'EP 36', 'EP 9', 'EP 5', 'EP 37', 'EP 12', 'EP 10', 'EP 40', 'EP 14', 'EP 10', 'EP 1', 'EP 1', 'EP 1', 'EP 1', 'EP 1', 'EP 1', 'EP 1', 'EP 1', 'EP 1', 'EP 1', 'EP 1', 'EP 1', 'EP 1', 'EP 1', 'EP 1', 'EP 1', 'EP 1', 'EP 1', 'EP 1', 'EP 1', 'EP 1', 'EP 1', 'EP 1', 'EP 0', 'EP 1', 'EP 1', 'EP 1', 'EP 1', 'EP 1', 'EP 1', 'EP 361', 'EP 192', 'EP 11', 'EP 5', 'EP 512', 'EP 7', 'EP 401', 'EP 3', 'EP 202', 'EP 12', 'EP 264', 'EP 421', 'EP 281', 'EP 672', 'EP 21', 'EP 280', 'EP 503', 'EP 630', 'EP 24', 'EP 20', 'EP 11', 'EP 12', 'EP 420', 'EP 360', 'EP 191', 'EP 262', 'EP 671', 'EP 419', 'EP 263', 'EP 400', 'EP 6', 'EP 201', 'EP 279', 'EP 511', 'EP 191', 'EP 23']\n",
      "['https://vvw.dramacoool.co/wp-content/uploads/2023/06/Numbers-2023.jpg', 'https://vvw.dramacoool.co/wp-content/uploads/2023/06/Numbers-2023.jpg', 'https://vvw.dramacoool.co/wp-content/uploads/2023/06/Numbers-2023.jpg', 'https://vvw.dramacoool.co/wp-content/uploads/2023/06/Numbers-2023.jpg', 'https://vvw.dramacoool.co/wp-content/uploads/2023/06/Numbers-2023.jpg', 'https://vvw.dramacoool.co/wp-content/uploads/2023/06/Numbers-2023.jpg', 'https://vvw.dramacoool.co/wp-content/uploads/2023/06/Numbers-2023.jpg', 'https://vvw.dramacoool.co/wp-content/uploads/2023/06/Numbers-2023.jpg', 'https://vvw.dramacoool.co/wp-content/uploads/2023/06/Numbers-2023.jpg', 'https://vvw.dramacoool.co/wp-content/uploads/2023/06/Numbers-2023.jpg', 'https://vvw.dramacoool.co/wp-content/uploads/2023/06/Numbers-2023.jpg', 'https://vvw.dramacoool.co/wp-content/uploads/2023/08/this-relationship-is-force-majeure-1690859994.png', 'https://vvw.dramacoool.co/wp-content/uploads/2023/06/Destined-2023.jpg', 'https://vvw.dramacoool.co/wp-content/uploads/2023/06/Destined-2023.jpg', 'https://vvw.dramacoool.co/wp-content/uploads/2023/08/national-death-penalty-vote-1689828984.png', 'https://vvw.dramacoool.co/wp-content/uploads/2023/09/a-nation-of-banchan-2023-1695085580.jpg', 'https://vvw.dramacoool.co/wp-content/uploads/2023/09/Rakujitsu-2023.png', 'https://vvw.dramacoool.co/wp-content/uploads/2023/09/Ao-Haru-Ride-Season-1-2023.png', 'https://vvw.dramacoool.co/wp-content/uploads/2023/09/Kimi-ni-wa-Todokanai.-2023.jpg', 'https://vvw.dramacoool.co/wp-content/uploads/2023/06/Adult-Kids-2023.png', 'https://vvw.dramacoool.co/wp-content/uploads/2023/08/halation-love-1690046760.png', 'https://vvw.dramacoool.co/wp-content/uploads/2023/09/Living-2023.jpg', 'https://vvw.dramacoool.co/wp-content/uploads/2023/07/Be-Mine-SuperStar-2023.png', 'https://vvw.dramacoool.co/wp-content/uploads/2023/08/Doctor-Detective.png', 'https://vvw.dramacoool.co/wp-content/uploads/2023/05/Meant-to-Be-2023-1.jpg', 'https://vvw.dramacoool.co/wp-content/uploads/2023/09/Unpredictable-Family-2023.png', 'https://vvw.dramacoool.co/wp-content/uploads/2023/08/Elegant-Empire-2023.png', 'https://vvw.dramacoool.co/wp-content/uploads/2023/08/All-the-Way-to-the-Sun-2023.png', 'https://vvw.dramacoool.co/wp-content/uploads/2023/08/pure-boxer-1689578671.png', 'https://vvw.dramacoool.co/wp-content/uploads/2023/09/The-Bride-of-Naga-2023.png', 'https://vvw.dramacoool.co/wp-content/uploads/2023/08/The-Brightest-of-Us.png', 'https://vvw.dramacoool.co/wp-content/uploads/2023/09/Romantic-2023.png', 'https://vvw.dramacoool.co/wp-content/uploads/2023/09/Jiang-Hu-Jue-Se-Lu-2023.png', 'https://vvw.dramacoool.co/wp-content/uploads/2023/08/Wang-Ying.png', 'https://vvw.dramacoool.co/wp-content/uploads/2023/09/Ive-Been-to-Your-Future.png', 'https://vvw.dramacoool.co/wp-content/uploads/2023/09/Hello-Dong-Dong-En-2023.png', 'https://vvw.dramacoool.co/wp-content/uploads/2023/05/Hidden-Blade-2023.jpg', 'https://vvw.dramacoool.co/wp-content/uploads/2023/05/Gangnam-Zombie-2023.jpg', 'https://vvw.dramacoool.co/wp-content/uploads/2023/05/Dream-2023.jpg', 'https://vvw.dramacoool.co/wp-content/uploads/2023/05/My-Heart-Puppy-2023.jpg', 'https://vvw.dramacoool.co/wp-content/uploads/2023/05/Phantom-2023.jpg', 'https://vvw.dramacoool.co/wp-content/uploads/2023/05/My-Happy-Marriage-2023.jpg', 'https://vvw.dramacoool.co/wp-content/uploads/2023/05/Moments-of-Love-2023.jpg', 'https://vvw.dramacoool.co/wp-content/uploads/2023/05/Love-and-Leashes-2022.jpg', 'https://vvw.dramacoool.co/wp-content/uploads/2023/05/Kill-Bok-Soon-2023.jpg', 'https://vvw.dramacoool.co/wp-content/uploads/2023/05/Just-for-Meeting-You-2023.png', 'https://vvw.dramacoool.co/wp-content/uploads/2023/05/Jung_E-2023.jpg', 'https://vvw.dramacoool.co/wp-content/uploads/2023/05/J-Hope-in-the-Box-2023.jpg', 'https://vvw.dramacoool.co/wp-content/uploads/2023/05/Hunger-2023.jpg', 'https://vvw.dramacoool.co/wp-content/uploads/2023/05/Cherry-Magic-Thirty-Years-of-Virginity.jpg', 'https://vvw.dramacoool.co/wp-content/uploads/2023/05/Call-Me-Chihiro-2023.jpg', 'https://vvw.dramacoool.co/wp-content/uploads/2023/05/Bogota-City-of-the-Lost-2023.jpg', 'https://vvw.dramacoool.co/wp-content/uploads/2023/05/Ballerina-2023.png', 'https://vvw.dramacoool.co/wp-content/uploads/2023/05/Bakumatsu-Without-Honor-and-Humanity-2023.jpg', 'https://vvw.dramacoool.co/wp-content/uploads/2023/05/Ai-Long-Nha-The-Endless-Love-2023.jpg', 'https://vvw.dramacoool.co/wp-content/uploads/2023/05/20th-Century-Girl-2022.jpg', 'https://vvw.dramacoool.co/wp-content/uploads/2023/05/You-Me-Me-2023.jpg', 'https://vvw.dramacoool.co/wp-content/uploads/2023/05/Yesterday-Once-More-2023.jpg', 'https://vvw.dramacoool.co/wp-content/uploads/2023/05/When-Our-Love-Remains-As-Scent-2023.jpg', 'https://vvw.dramacoool.co/wp-content/uploads/2023/05/Utsukushii-Kare-Special-Edit-Version-2023.jpg', 'https://vvw.dramacoool.co/wp-content/uploads/2023/05/Unlocked-2023.jpg', 'https://vvw.dramacoool.co/wp-content/uploads/2023/05/The-Point-Men-2023.jpg', 'https://vvw.dramacoool.co/wp-content/uploads/2023/05/Switch-2023.jpg', 'https://vvw.dramacoool.co/wp-content/uploads/2023/05/Soulmate-2023.jpg', 'https://vvw.dramacoool.co/wp-content/uploads/2023/05/Rebound-2023.jpg', 'https://vvw.dramacoool.co/wp-content/uploads/2023/05/sailleonseu.png', 'https://vvw.dramacoool.co/wp-content/uploads/2023/01/My-Little-Old-Boy-2016-1.jpg', 'https://vvw.dramacoool.co/wp-content/uploads/2023/02/2-Days-1-Night-Season-4-2019-1.jpg', 'https://vvw.dramacoool.co/wp-content/uploads/2023/06/Smiling-Boss-2023.jpg', 'https://vvw.dramacoool.co/wp-content/uploads/2023/09/Express-Delivery-Mongolia-Edition-2023.jpg', 'https://vvw.dramacoool.co/wp-content/uploads/2023/01/I-Live-Alone-2013-1.jpg', 'https://vvw.dramacoool.co/wp-content/uploads/2023/08/To-Maya-After-You-2023-1.jpg', 'https://vvw.dramacoool.co/wp-content/uploads/2023/01/Knowing-Bros-2015-1.jpg', 'https://vvw.dramacoool.co/wp-content/uploads/2023/09/After-Signal.png', 'https://vvw.dramacoool.co/wp-content/uploads/2023/05/Hangout-with-Yoo-2019-1.jpg', 'https://vvw.dramacoool.co/wp-content/uploads/2023/08/Exos-Ladder-Season-4-2023.jpg', 'https://vvw.dramacoool.co/wp-content/uploads/2023/01/Omniscient-Interfering-View-2018-2.jpg', 'https://vvw.dramacoool.co/wp-content/uploads/2023/01/King-of-Mask-Singer-2015-1.jpg', 'https://vvw.dramacoool.co/wp-content/uploads/2023/01/Amazing-Saturday-2018-1.jpg', 'https://vvw.dramacoool.co/wp-content/uploads/2023/01/Running-Man-2010-1.jpg', 'https://vvw.dramacoool.co/wp-content/uploads/2023/08/Heart-Signal-CN-Season-6.jpg', 'https://vvw.dramacoool.co/wp-content/uploads/2023/01/Amazing-Saturday-2018-1.jpg', 'https://vvw.dramacoool.co/wp-content/uploads/2023/05/The-Return-of-Superman-2013.jpg', 'https://vvw.dramacoool.co/wp-content/uploads/2023/01/Weekly-Idol-2011-1.jpg', 'https://vvw.dramacoool.co/wp-content/uploads/2023/06/KCS-Smoking-Gun-2023.jpg', 'https://vvw.dramacoool.co/wp-content/uploads/2023/08/Heart-Signal-CN-Season-6.jpg', 'https://vvw.dramacoool.co/wp-content/uploads/2023/06/Adventure-by-Accident-Season-2-2023.jpg', 'https://vvw.dramacoool.co/wp-content/uploads/2023/06/Is-She-the-Wolf-2023.jpg', 'https://vvw.dramacoool.co/wp-content/uploads/2023/01/King-of-Mask-Singer-2015-1.jpg', 'https://vvw.dramacoool.co/wp-content/uploads/2023/01/My-Little-Old-Boy-2016-1.jpg', 'https://vvw.dramacoool.co/wp-content/uploads/2023/02/2-Days-1-Night-Season-4-2019-1.jpg', 'https://vvw.dramacoool.co/wp-content/uploads/2023/01/Omniscient-Interfering-View-2018-2.jpg', 'https://vvw.dramacoool.co/wp-content/uploads/2023/01/Running-Man-2010-1.jpg', 'https://vvw.dramacoool.co/wp-content/uploads/2023/01/King-of-Mask-Singer-2015-1.jpg', 'https://vvw.dramacoool.co/wp-content/uploads/2023/01/Omniscient-Interfering-View-2018-2.jpg', 'https://vvw.dramacoool.co/wp-content/uploads/2023/01/Knowing-Bros-2015-1.jpg', 'https://vvw.dramacoool.co/wp-content/uploads/2023/08/To-Maya-After-You-2023-1.jpg', 'https://vvw.dramacoool.co/wp-content/uploads/2023/05/Hangout-with-Yoo-2019-1.jpg', 'https://vvw.dramacoool.co/wp-content/uploads/2023/01/Amazing-Saturday-2018-1.jpg', 'https://vvw.dramacoool.co/wp-content/uploads/2023/01/I-Live-Alone-2013-1.jpg', 'https://vvw.dramacoool.co/wp-content/uploads/2023/04/Convenience-Store-Restaurant-2019-1.jpg', 'https://vvw.dramacoool.co/wp-content/uploads/2023/06/KCS-Smoking-Gun-2023.jpg']\n",
      "[['lazy.js'], ['lazy.js'], ['lazy.js'], ['lazy.js'], ['lazy.js'], ['lazy.js'], ['lazy.js'], ['lazy.js'], ['lazy.js'], ['lazy.js'], ['lazy.js'], ['lazy.js'], ['lazy.js'], ['lazy.js'], ['lazy.js'], ['lazy.js'], ['lazy.js'], ['lazy.js'], ['lazy.js'], ['lazy.js'], ['lazy.js'], ['lazy.js'], ['lazy.js'], ['lazy.js'], ['lazy.js'], ['lazy.js'], ['lazy.js'], ['lazy.js'], ['lazy.js'], ['lazy.js'], ['lazy.js'], ['lazy.js'], ['lazy.js'], ['lazy.js'], ['lazy.js'], ['lazy.js'], ['lazy'], ['lazy'], ['lazy'], ['lazy'], ['lazy'], ['lazy'], ['lazy'], ['lazy'], ['lazy'], ['lazy'], ['lazy'], ['lazy'], ['lazy'], ['lazy'], ['lazy'], ['lazy'], ['lazy'], ['lazy'], ['lazy'], ['lazy'], ['lazy'], ['lazy'], ['lazy'], ['lazy'], ['lazy'], ['lazy'], ['lazy'], ['lazy'], ['lazy'], ['lazy'], ['lazy'], ['lazy'], ['lazy'], ['lazy'], ['lazy'], ['lazy'], ['lazy'], ['lazy'], ['lazy'], ['lazy'], ['lazy'], ['lazy'], ['lazy'], ['lazy'], ['lazy'], ['lazy'], ['lazy'], ['lazy'], ['lazy'], ['lazy'], ['lazy'], ['lazy'], ['lazy'], ['lazy'], ['lazy'], ['lazy'], ['lazy'], ['lazy'], ['lazy'], ['lazy'], ['lazy'], ['lazy'], ['lazy'], ['lazy'], ['lazy'], ['lazy']]\n"
     ]
    }
   ],
   "source": [
    "recent_released_titles = []\n",
    "coming_soon_titles = []\n",
    "coming_soon_links = []\n",
    "ongoing_titles = []\n",
    "ongoing_links = []\n",
    "popular_titles = []\n",
    "\n",
    "recent_released_time = []\n",
    "recent_released_ep = []\n",
    "recent_released_src = []\n",
    "recent_released_class = []\n",
    "\n",
    "for t in recently_released:\n",
    "  recent_released_titles.append(t.get_text())\n",
    "for t in coming_soon:\n",
    "  coming_soon_titles.append(t.get_text())\n",
    "  coming_soon_links.append(t.attrs.get('href'))\n",
    "for t in ongoing_title:\n",
    "  ongoing_titles.append(t.get_text())\n",
    "  ongoing_links.append(t.attrs.get('href'))\n",
    "for t in popular_title:\n",
    "  popular_titles.append(t.get_text())\n",
    "\n",
    "for t in recently_released_time:\n",
    "  recent_released_time.append(t.get_text())\n",
    "for t in recently_released_ep:\n",
    "  recent_released_ep.append(t.get_text())\n",
    "for t in recently_released_img:\n",
    "  recent_released_src.append(t.attrs.get(\"src\"))\n",
    "  recent_released_class.append(t.attrs.get('class'))\n",
    "\n",
    "print(recent_released_titles)\n",
    "print(coming_soon_titles)\n",
    "print(coming_soon_links)\n",
    "print(ongoing_titles)\n",
    "print(ongoing_links)\n",
    "print(popular_titles)\n",
    "\n",
    "print(recent_released_time)\n",
    "print(recent_released_ep)\n",
    "print(recent_released_src)\n",
    "print(recent_released_class)"
   ]
  },
  {
   "cell_type": "code",
   "execution_count": 105,
   "id": "e81bcb14",
   "metadata": {},
   "outputs": [
    {
     "name": "stdout",
     "output_type": "stream",
     "text": [
      "  recent released titles recent released times recent released episodes  \\\n",
      "0         Numbers (2023)           3 hours ago                     EP 9   \n",
      "1         Numbers (2023)           3 hours ago                     EP 8   \n",
      "2         Numbers (2023)           3 hours ago                     EP 7   \n",
      "3         Numbers (2023)           3 hours ago                     EP 6   \n",
      "4         Numbers (2023)           3 hours ago                     EP 5   \n",
      "\n",
      "                              recent released images recent released class  \n",
      "0  https://vvw.dramacoool.co/wp-content/uploads/2...             [lazy.js]  \n",
      "1  https://vvw.dramacoool.co/wp-content/uploads/2...             [lazy.js]  \n",
      "2  https://vvw.dramacoool.co/wp-content/uploads/2...             [lazy.js]  \n",
      "3  https://vvw.dramacoool.co/wp-content/uploads/2...             [lazy.js]  \n",
      "4  https://vvw.dramacoool.co/wp-content/uploads/2...             [lazy.js]  \n"
     ]
    }
   ],
   "source": [
    "df = pd.DataFrame(\n",
    "    {'recent released titles': recent_released_titles,\n",
    "     \"recent released times\" : recent_released_time,\n",
    "     \"recent released episodes\" : recent_released_ep,\n",
    "     \"recent released images\" : recent_released_src,\n",
    "     \"recent released class\" : recent_released_class}\n",
    "    )\n",
    "\n",
    "print (df.head())\n",
    "\n",
    "df.to_csv('Dramacool.csv', index=False)"
   ]
  },
  {
   "cell_type": "code",
   "execution_count": 106,
   "id": "4a7201cf-ab1d-4e1a-8f7d-7ea68fea3315",
   "metadata": {},
   "outputs": [
    {
     "name": "stdout",
     "output_type": "stream",
     "text": [
      "  recent released titles recent released times recent released episodes  \\\n",
      "0         Numbers (2023)           3 hours ago                     EP 9   \n",
      "1         Numbers (2023)           3 hours ago                     EP 8   \n",
      "2         Numbers (2023)           3 hours ago                     EP 7   \n",
      "3         Numbers (2023)           3 hours ago                     EP 6   \n",
      "4         Numbers (2023)           3 hours ago                     EP 5   \n",
      "\n",
      "                              recent released images recent released class  \\\n",
      "0  https://vvw.dramacoool.co/wp-content/uploads/2...             [lazy.js]   \n",
      "1  https://vvw.dramacoool.co/wp-content/uploads/2...             [lazy.js]   \n",
      "2  https://vvw.dramacoool.co/wp-content/uploads/2...             [lazy.js]   \n",
      "3  https://vvw.dramacoool.co/wp-content/uploads/2...             [lazy.js]   \n",
      "4  https://vvw.dramacoool.co/wp-content/uploads/2...             [lazy.js]   \n",
      "\n",
      "                       coming soon titles  \\\n",
      "0          Love Me Again (2023) Episode 6   \n",
      "1  Warm on a Cold Night (2023) Episode 36   \n",
      "2  Warm on a Cold Night (2023) Episode 35   \n",
      "3   Justice in the Dark (2023) Episode 10   \n",
      "4    Justice in the Dark (2023) Episode 9   \n",
      "\n",
      "                                   coming soon links  \\\n",
      "0  https://vvw.dramacoool.co/love-me-again-2023-e...   \n",
      "1  https://vvw.dramacoool.co/warm-on-a-cold-night...   \n",
      "2  https://vvw.dramacoool.co/warm-on-a-cold-night...   \n",
      "3  https://vvw.dramacoool.co/justice-in-the-dark-...   \n",
      "4  https://vvw.dramacoool.co/justice-in-the-dark-...   \n",
      "\n",
      "                                    ongoing titles  \\\n",
      "0         \\n        Hidden Love (2023)      \\n       \n",
      "1       \\n        King the Land (2023)      \\n       \n",
      "2        \\n        Bitch X Rich (2023)      \\n       \n",
      "3  \\n        Here We Meet Again (2023)      \\n       \n",
      "4  \\n        The Real Has Come! (2023)      \\n       \n",
      "\n",
      "                                       ongoing links  \\\n",
      "0  https://vvw.dramacoool.co/series/hidden-love-2023   \n",
      "1  https://vvw.dramacoool.co/series/king-the-land...   \n",
      "2  https://vvw.dramacoool.co/series/bitch-x-rich-...   \n",
      "3  https://vvw.dramacoool.co/series/here-we-meet-...   \n",
      "4  https://vvw.dramacoool.co/series/the-real-has-...   \n",
      "\n",
      "                        popular titles  \n",
      "0         Dr. Romantic Season 3 (2023)  \n",
      "1                 King the Land (2023)  \n",
      "2  Tale of the Nine-Tailed 1938 (2023)  \n",
      "3                  Bitch X Rich (2023)  \n",
      "4           The Good Bad Mother (2023)  \n"
     ]
    }
   ],
   "source": [
    "# this one has extra data and has different length for each data\n",
    "\n",
    "max_length = max(len(recent_released_titles), len(recent_released_time), len(recent_released_ep), len(recent_released_src), len(recent_released_class), len(coming_soon_titles), len(coming_soon_links), len(ongoing_titles), len(ongoing_links), len(popular_titles))\n",
    "\n",
    "recent_released_titles += [None] * (max_length - len(recent_released_titles))\n",
    "recent_released_time += [None] * (max_length - len(recent_released_time))\n",
    "recent_released_ep += [None] * (max_length - len(recent_released_ep))\n",
    "recent_released_src += [None] * (max_length - len(recent_released_src))\n",
    "recent_released_class += [None] * (max_length - len(recent_released_class))\n",
    "coming_soon_titles += [None] * (max_length - len(coming_soon_titles))\n",
    "coming_soon_links += [None] * (max_length - len(coming_soon_links))\n",
    "ongoing_titles += [None] * (max_length - len(ongoing_titles))\n",
    "ongoing_links += [None] * (max_length - len(ongoing_links))\n",
    "popular_titles += [None] * (max_length - len(popular_titles))\n",
    "\n",
    "df = pd.DataFrame(\n",
    "    {'recent released titles': recent_released_titles,\n",
    "     \"recent released times\" : recent_released_time,\n",
    "     \"recent released episodes\" : recent_released_ep,\n",
    "     \"recent released images\" : recent_released_src,\n",
    "     \"recent released class\" : recent_released_class,\n",
    "     'coming soon titles': coming_soon_titles,\n",
    "     'coming soon links': coming_soon_links,\n",
    "     'ongoing titles': ongoing_titles,\n",
    "     'ongoing links': ongoing_links,\n",
    "     \"popular titles\" : popular_titles}\n",
    "    )\n",
    "\n",
    "print (df.head())\n",
    "\n",
    "df.to_csv('Dramacool_Extra.csv', index=False)"
   ]
  },
  {
   "cell_type": "code",
   "execution_count": null,
   "id": "b8061da4-9133-4294-8046-7a1e83be6e7c",
   "metadata": {},
   "outputs": [],
   "source": []
  }
 ],
 "metadata": {
  "kernelspec": {
   "display_name": "Python 3 (ipykernel)",
   "language": "python",
   "name": "python3"
  },
  "language_info": {
   "codemirror_mode": {
    "name": "ipython",
    "version": 3
   },
   "file_extension": ".py",
   "mimetype": "text/x-python",
   "name": "python",
   "nbconvert_exporter": "python",
   "pygments_lexer": "ipython3",
   "version": "3.10.7"
  }
 },
 "nbformat": 4,
 "nbformat_minor": 5
}
